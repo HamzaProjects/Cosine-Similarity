{
 "cells": [
  {
   "cell_type": "code",
   "execution_count": 1,
   "metadata": {},
   "outputs": [
    {
     "name": "stdout",
     "output_type": "stream",
     "text": [
      "0.9746318461970762\n"
     ]
    }
   ],
   "source": [
    "from math import sqrt\n",
    "\n",
    "def cosine_similarity(x, y):\n",
    "    if len(x) != len(y):\n",
    "        raise ValueError(\"Vectors must have the same length.\")\n",
    "\n",
    "    dot_product = sum(a * b for a, b in zip(x, y))\n",
    "    norm_x = sqrt(sum(a * a for a in x))\n",
    "    norm_y = sqrt(sum(b * b for b in y))\n",
    "\n",
    "    similarity = dot_product / (norm_x * norm_y)\n",
    "\n",
    "    # Handle cases where the denominator is very small or zero\n",
    "    if abs(similarity) > 1:\n",
    "        similarity = 1 if similarity > 0 else -1\n",
    "\n",
    "    return similarity\n",
    "\n",
    "# Example usage\n",
    "vector1 = [1, 2, 3]\n",
    "vector2 = [4, 5, 6]\n",
    "\n",
    "similarity = cosine_similarity(vector1, vector2)\n",
    "print(similarity)\n"
   ]
  }
 ],
 "metadata": {
  "kernelspec": {
   "display_name": "base",
   "language": "python",
   "name": "python3"
  },
  "language_info": {
   "codemirror_mode": {
    "name": "ipython",
    "version": 3
   },
   "file_extension": ".py",
   "mimetype": "text/x-python",
   "name": "python",
   "nbconvert_exporter": "python",
   "pygments_lexer": "ipython3",
   "version": "3.8.5"
  }
 },
 "nbformat": 4,
 "nbformat_minor": 2
}
